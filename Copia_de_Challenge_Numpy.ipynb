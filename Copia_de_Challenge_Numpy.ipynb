{
  "nbformat": 4,
  "nbformat_minor": 0,
  "metadata": {
    "colab": {
      "provenance": [],
      "collapsed_sections": [],
      "include_colab_link": true
    },
    "kernelspec": {
      "name": "python3",
      "display_name": "Python 3"
    },
    "language_info": {
      "name": "python"
    }
  },
  "cells": [
    {
      "cell_type": "markdown",
      "metadata": {
        "id": "view-in-github",
        "colab_type": "text"
      },
      "source": [
        "<a href=\"https://colab.research.google.com/github/FranGarcia9/Tareas-mod-2-Data-Science/blob/main/Copia_de_Challenge_Numpy.ipynb\" target=\"_parent\"><img src=\"https://colab.research.google.com/assets/colab-badge.svg\" alt=\"Open In Colab\"/></a>"
      ]
    },
    {
      "cell_type": "code",
      "execution_count": null,
      "metadata": {
        "id": "MClpPpJYoEoA"
      },
      "outputs": [],
      "source": [
        "import numpy as np"
      ]
    },
    {
      "cell_type": "markdown",
      "source": [
        "## Crea un array con numeros del 1 al 10"
      ],
      "metadata": {
        "id": "TMTQLxvMp8K1"
      }
    },
    {
      "cell_type": "code",
      "source": [
        "array = np.arange(11)\n",
        "array"
      ],
      "metadata": {
        "id": "DA2_2Nbap7jM",
        "colab": {
          "base_uri": "https://localhost:8080/"
        },
        "outputId": "154ebdfd-ed93-414e-be22-b3b6170af755"
      },
      "execution_count": null,
      "outputs": [
        {
          "output_type": "execute_result",
          "data": {
            "text/plain": [
              "array([ 0,  1,  2,  3,  4,  5,  6,  7,  8,  9, 10])"
            ]
          },
          "metadata": {},
          "execution_count": 4
        }
      ]
    },
    {
      "cell_type": "code",
      "source": [],
      "metadata": {
        "id": "llY_9t4OqAhz"
      },
      "execution_count": null,
      "outputs": []
    },
    {
      "cell_type": "code",
      "source": [
        "# Resultado esperado\n",
        "#> array([0, 1, 2, 3, 4, 5, 6, 7, 8, 9])"
      ],
      "metadata": {
        "id": "wAk_fsK5qAdd"
      },
      "execution_count": null,
      "outputs": []
    },
    {
      "cell_type": "markdown",
      "source": [
        "## Crea un array de 3x3 donde todos su valores sean `True`"
      ],
      "metadata": {
        "id": "W22Msb7LoGmS"
      }
    },
    {
      "cell_type": "code",
      "source": [
        "ones = np.ones((3,3))\n",
        "ones"
      ],
      "metadata": {
        "id": "tj4Joha8Anmy",
        "colab": {
          "base_uri": "https://localhost:8080/"
        },
        "outputId": "f258efd8-0559-4c13-f81e-053899242047"
      },
      "execution_count": null,
      "outputs": [
        {
          "output_type": "execute_result",
          "data": {
            "text/plain": [
              "array([[1., 1., 1.],\n",
              "       [1., 1., 1.],\n",
              "       [1., 1., 1.]])"
            ]
          },
          "metadata": {},
          "execution_count": 16
        }
      ]
    },
    {
      "cell_type": "code",
      "source": [
        "ones <= 1"
      ],
      "metadata": {
        "colab": {
          "base_uri": "https://localhost:8080/"
        },
        "id": "c_GHh5zJow4G",
        "outputId": "ddd16129-4ece-46d0-bfae-379fba43859e"
      },
      "execution_count": null,
      "outputs": [
        {
          "output_type": "execute_result",
          "data": {
            "text/plain": [
              "array([[ True,  True,  True],\n",
              "       [ True,  True,  True],\n",
              "       [ True,  True,  True]])"
            ]
          },
          "metadata": {},
          "execution_count": 17
        }
      ]
    },
    {
      "cell_type": "code",
      "source": [
        "# Reultado esperado\n",
        "#> array([[ True,  True,  True],\n",
        "#>        [ True,  True,  True],\n",
        "#>        [ True,  True,  True]])"
      ],
      "metadata": {
        "id": "tUDiEPj6ob7B"
      },
      "execution_count": null,
      "outputs": []
    },
    {
      "cell_type": "markdown",
      "source": [
        "## Extrae todos los numeros impares del siguiente array"
      ],
      "metadata": {
        "id": "FopmvR4koGjG"
      }
    },
    {
      "cell_type": "code",
      "source": [
        "arr = np.arange(10)\n",
        "print(arr)"
      ],
      "metadata": {
        "colab": {
          "base_uri": "https://localhost:8080/"
        },
        "id": "yPA0QUqYobwt",
        "outputId": "f7d1d68e-b675-42c3-c1f1-5148b0452fe1"
      },
      "execution_count": null,
      "outputs": [
        {
          "output_type": "stream",
          "name": "stdout",
          "text": [
            "[0 1 2 3 4 5 6 7 8 9]\n"
          ]
        }
      ]
    },
    {
      "cell_type": "code",
      "source": [
        "arr[arr % 2 == 1]"
      ],
      "metadata": {
        "id": "ynrwmP5Jobm_",
        "colab": {
          "base_uri": "https://localhost:8080/"
        },
        "outputId": "5524f188-360c-41ea-978d-de412c198810"
      },
      "execution_count": null,
      "outputs": [
        {
          "output_type": "execute_result",
          "data": {
            "text/plain": [
              "array([1, 3, 5, 7, 9])"
            ]
          },
          "metadata": {},
          "execution_count": 37
        }
      ]
    },
    {
      "cell_type": "code",
      "source": [
        "# Resultado esperado:\n",
        "#> array([1, 3, 5, 7, 9])"
      ],
      "metadata": {
        "id": "RKoxsawkobNt"
      },
      "execution_count": null,
      "outputs": []
    },
    {
      "cell_type": "markdown",
      "source": [
        "## Remplaza todos los numeros impares por  -1"
      ],
      "metadata": {
        "id": "Nn--my5poGgL"
      }
    },
    {
      "cell_type": "code",
      "source": [
        "arr = np.arange(10)\n",
        "print(arr)"
      ],
      "metadata": {
        "colab": {
          "base_uri": "https://localhost:8080/"
        },
        "id": "iRo8RiVGoxX9",
        "outputId": "77f0c171-2946-4c49-c777-b77b873d41cc"
      },
      "execution_count": null,
      "outputs": [
        {
          "output_type": "stream",
          "name": "stdout",
          "text": [
            "[0 1 2 3 4 5 6 7 8 9]\n"
          ]
        }
      ]
    },
    {
      "cell_type": "code",
      "source": [
        "arr[arr % 2 == 1]\n",
        "arr"
      ],
      "metadata": {
        "id": "rHM5WOtaoxUa",
        "colab": {
          "base_uri": "https://localhost:8080/"
        },
        "outputId": "0502b92a-c182-446d-833a-89868113a341"
      },
      "execution_count": null,
      "outputs": [
        {
          "output_type": "execute_result",
          "data": {
            "text/plain": [
              "array([ 0, -1,  2, -1,  4, -1,  6, -1,  8, -1])"
            ]
          },
          "metadata": {},
          "execution_count": 40
        }
      ]
    },
    {
      "cell_type": "code",
      "source": [
        "arr[arr % 2 == 1] = -1\n",
        "arr"
      ],
      "metadata": {
        "colab": {
          "base_uri": "https://localhost:8080/"
        },
        "id": "5W8uMYfAq3Y2",
        "outputId": "dc70ae36-33f6-415f-a8dc-b71dc8c6ef78"
      },
      "execution_count": null,
      "outputs": [
        {
          "output_type": "execute_result",
          "data": {
            "text/plain": [
              "array([ 0, -1,  2, -1,  4, -1,  6, -1,  8, -1])"
            ]
          },
          "metadata": {},
          "execution_count": 39
        }
      ]
    },
    {
      "cell_type": "code",
      "source": [
        "# Resultado esperado:\n",
        "#>  array([ 0, -1,  2, -1,  4, -1,  6, -1,  8, -1])"
      ],
      "metadata": {
        "id": "euODfutYoxRN"
      },
      "execution_count": null,
      "outputs": []
    },
    {
      "cell_type": "markdown",
      "source": [
        "## Convierte un array de 1D a uno de 2D de dos filas"
      ],
      "metadata": {
        "id": "4JEdWFPhoGdW"
      }
    },
    {
      "cell_type": "code",
      "source": [
        "arr = np.arange(10)\n",
        "print(arr)"
      ],
      "metadata": {
        "colab": {
          "base_uri": "https://localhost:8080/"
        },
        "id": "Qb_m5EaBpsyM",
        "outputId": "e12e1e73-2a26-48a8-d546-9f8699307e05"
      },
      "execution_count": null,
      "outputs": [
        {
          "output_type": "stream",
          "name": "stdout",
          "text": [
            "[0 1 2 3 4 5 6 7 8 9]\n"
          ]
        }
      ]
    },
    {
      "cell_type": "code",
      "source": [
        "arrr = np.array([[0,1,2,3,4], [5,6,7,8,9]])\n",
        "arrr"
      ],
      "metadata": {
        "id": "vL6tasXCpsuN",
        "colab": {
          "base_uri": "https://localhost:8080/"
        },
        "outputId": "4ca317f5-f4d6-4c55-9b07-bde97b874981"
      },
      "execution_count": null,
      "outputs": [
        {
          "output_type": "execute_result",
          "data": {
            "text/plain": [
              "array([[0, 1, 2, 3, 4],\n",
              "       [5, 6, 7, 8, 9]])"
            ]
          },
          "metadata": {},
          "execution_count": 51
        }
      ]
    },
    {
      "cell_type": "code",
      "source": [
        "# Resultado esperado\n",
        "#> array([[0, 1, 2, 3, 4],\n",
        "#>        [5, 6, 7, 8, 9]])"
      ],
      "metadata": {
        "id": "rtL4kukVpsrK"
      },
      "execution_count": null,
      "outputs": []
    },
    {
      "cell_type": "markdown",
      "source": [
        "## Extrae todos los numeros que se encuentren entre 5 y 10 del siguiente array"
      ],
      "metadata": {
        "id": "71Gj2FrYoGaM"
      }
    },
    {
      "cell_type": "code",
      "source": [
        "arr = np.array([2, 6, 1, 9, 10, 3, 27])\n",
        "print(arr)"
      ],
      "metadata": {
        "id": "Ehfe4UHD_z92",
        "colab": {
          "base_uri": "https://localhost:8080/"
        },
        "outputId": "0ec6b766-40d2-4acd-9081-6e4ecf48b231"
      },
      "execution_count": null,
      "outputs": [
        {
          "output_type": "stream",
          "name": "stdout",
          "text": [
            "[ 2  6  1  9 10  3 27]\n"
          ]
        }
      ]
    },
    {
      "cell_type": "code",
      "source": [
        "arr = arr[(arr > 5) & (arr < 11)]\n",
        "arr\n"
      ],
      "metadata": {
        "id": "WH-kiqcV_ziN",
        "colab": {
          "base_uri": "https://localhost:8080/"
        },
        "outputId": "de8132f7-fdda-42e5-dbf9-6fd742fe83dc"
      },
      "execution_count": null,
      "outputs": [
        {
          "output_type": "execute_result",
          "data": {
            "text/plain": [
              "array([ 6,  9, 10])"
            ]
          },
          "metadata": {},
          "execution_count": 60
        }
      ]
    },
    {
      "cell_type": "code",
      "source": [
        "# Resultado esperado\n",
        "#> (array([6, 9, 10]),)"
      ],
      "metadata": {
        "id": "NVDI5Fep_zfR"
      },
      "execution_count": null,
      "outputs": []
    },
    {
      "cell_type": "markdown",
      "source": [
        "## Intercambia de posicion la primera y la segunda columna de la siguiente matriz"
      ],
      "metadata": {
        "id": "v6nMylq6oT53"
      }
    },
    {
      "cell_type": "code",
      "source": [
        "arr = np.arange(9).reshape(3,3)\n",
        "print(arr)"
      ],
      "metadata": {
        "colab": {
          "base_uri": "https://localhost:8080/"
        },
        "id": "W4td-AoVBPnm",
        "outputId": "c9b72990-986f-482a-9492-5a7c7f07007c"
      },
      "execution_count": null,
      "outputs": [
        {
          "output_type": "stream",
          "name": "stdout",
          "text": [
            "[[0 1 2]\n",
            " [3 4 5]\n",
            " [6 7 8]]\n"
          ]
        }
      ]
    },
    {
      "cell_type": "code",
      "source": [
        "z = arr[:, [1,0,2]]\n",
        "z"
      ],
      "metadata": {
        "id": "SBNS7ftABPkh",
        "colab": {
          "base_uri": "https://localhost:8080/"
        },
        "outputId": "6c25f2c5-2f8c-4eda-de0b-273695af57aa"
      },
      "execution_count": null,
      "outputs": [
        {
          "output_type": "execute_result",
          "data": {
            "text/plain": [
              "array([[1, 0, 2],\n",
              "       [4, 3, 5],\n",
              "       [7, 6, 8]])"
            ]
          },
          "metadata": {},
          "execution_count": 73
        }
      ]
    },
    {
      "cell_type": "code",
      "source": [
        "# Reultado esperado\n",
        "#> array([[1, 0, 2],\n",
        "#>        [4, 3, 5],\n",
        "#>        [7, 6, 8]])"
      ],
      "metadata": {
        "id": "ZQWkhGO2EcTj"
      },
      "execution_count": null,
      "outputs": []
    },
    {
      "cell_type": "markdown",
      "source": [
        "texto en negrita## Minimos cuadrados ordinarios"
      ],
      "metadata": {
        "id": "V5Gt_q7nEWoI"
      }
    },
    {
      "cell_type": "markdown",
      "source": [
        "La siguiente es la formula para la regresion lineal de minimos cuadrados ordinarios\n"
      ],
      "metadata": {
        "id": "EedRaGIqoGXS"
      }
    },
    {
      "cell_type": "markdown",
      "source": [
        "![image.png](data:image/png;base64,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)"
      ],
      "metadata": {
        "id": "XNR7J8TuDLpb"
      }
    },
    {
      "cell_type": "markdown",
      "source": [
        "En esa formula, las multiplicaciones son producto punto. (Recordando que el producto punto de dos matrices en numpy es `A.dot(B)` o `A @ B`)  \n",
        "Las `T` en el superindice indican la transpuesta de la matriz  \n",
        "Los `-1` en el superindice indican la inversa de una matriz.  \n"
      ],
      "metadata": {
        "id": "bGJDQFJbDvH0"
      }
    },
    {
      "cell_type": "markdown",
      "source": [
        "La inversa de una matriz cuadrada `A` en numpy es `np.linalg.inv(A)`"
      ],
      "metadata": {
        "id": "2fRJzFF-Eqjf"
      }
    },
    {
      "cell_type": "markdown",
      "source": [
        "Para los siguientes datos, calcula el estimador beta como se indica en la formula de minimos cuadrados ordinarios:"
      ],
      "metadata": {
        "id": "FOMM4DA3E5LQ"
      }
    },
    {
      "cell_type": "code",
      "source": [
        "X = np.array([\n",
        "  [5, 7, 8],\n",
        "  [1, 1, 3],\n",
        "  [5, 0, 7],\n",
        "  [7, 3, 4],\n",
        "  [6, 7, 7],\n",
        "  [6, 7, 9],\n",
        "  [6, 1, 4],\n",
        "  [9, 0, 0],\n",
        "  [0, 5, 9],\n",
        "  [2, 8, 6]])\n",
        "y = np.array([3.5, 3.1, -18.8, 9.5, 18.5, 6.8, 0., 7.6, -11.2, 13.3])"
      ],
      "metadata": {
        "id": "HTAaQ9-FEkyA"
      },
      "execution_count": null,
      "outputs": []
    },
    {
      "cell_type": "code",
      "source": [
        "p = np.linalg.lstsq(X, y, rcond= 0)\n",
        "p\n"
      ],
      "metadata": {
        "id": "KVlduLf7GJqP",
        "colab": {
          "base_uri": "https://localhost:8080/"
        },
        "outputId": "4a5700f2-5004-4c74-cb8f-fd3b0945528c"
      },
      "execution_count": null,
      "outputs": [
        {
          "output_type": "execute_result",
          "data": {
            "text/plain": [
              "(array([ 1.22232275,  4.04574544, -3.26763476]),\n",
              " array([144.07114672]),\n",
              " 3,\n",
              " array([27.99381007, 11.2045571 ,  5.63954766]))"
            ]
          },
          "metadata": {},
          "execution_count": 89
        }
      ]
    },
    {
      "cell_type": "code",
      "source": [
        "# Resultado esperado\n",
        "#> array([ 1.22232275,  4.04574544, -3.26763476])"
      ],
      "metadata": {
        "id": "O89T8cGGH9jx"
      },
      "execution_count": null,
      "outputs": []
    },
    {
      "cell_type": "markdown",
      "source": [
        "Los valores reales eran `np.array([1, 4, -3])`, ¿es esta una buena estimacion?\n",
        "\n",
        "Sí, son cercanos a los valores que resultaron"
      ],
      "metadata": {
        "id": "Z_BUGvaeImUh"
      }
    }
  ]
}